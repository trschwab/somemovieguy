{
 "cells": [
  {
   "cell_type": "code",
   "execution_count": 16,
   "metadata": {},
   "outputs": [],
   "source": [
    "\n",
    "\n",
    "import json\n",
    "\n",
    "import pandas as pd\n",
    "import requests\n",
    "from bs4 import BeautifulSoup\n",
    "\n",
    "\n",
    "def get_page(url):\n",
    "    s = requests.session()\n",
    "    r = s.get(url)\n",
    "    soup = BeautifulSoup(r.text, \"html.parser\")\n",
    "    return soup\n",
    "\n",
    "\n",
    "def get_a_movie_info(url: str) -> pd.DataFrame:\n",
    "    '''\n",
    "    Takes in a movie URL like \"https://letterboxd.com/film/goon/\"\n",
    "    return the Dataframe of the movie's info\n",
    "    '''\n",
    "    soup = get_page(url)\n",
    "    i = 0\n",
    "    begin = 0\n",
    "    end = 0\n",
    "    for item in str(soup).split('\\n'):\n",
    "        if (\"* <![CDATA[ */\" in item):\n",
    "            begin = i\n",
    "        if (\"/* ]]> */\" in item):\n",
    "            end = i + 1\n",
    "        i += 1\n",
    "    info_list = [str(soup).split('\\n')[begin:end], url]\n",
    "    movie_df = pd.json_normalize(json.loads(info_list[0][1]))\n",
    "\n",
    "    post_df = movie_df[[\"image\", \"director\", \"dateModified\", \"productionCompany\", \"releasedEvent\", \"url\",\n",
    "                \"actors\", \"dateCreated\", \"name\", \"aggregateRating.reviewCount\",\n",
    "                \"aggregateRating.ratingValue\", \"aggregateRating.ratingCount\"]]\n",
    "    post_df = post_df.rename(columns={\"aggregateRating.reviewCount\": \"reviewCount\",\n",
    "                                    \"aggregateRating.ratingValue\": \"ratingValue\",\n",
    "                                    \"aggregateRating.ratingCount\": \"ratingCount\"})\n",
    "    return post_df"
   ]
  },
  {
   "cell_type": "code",
   "execution_count": 17,
   "metadata": {},
   "outputs": [],
   "source": [
    "x = get_a_movie_info(\"https://letterboxd.com/film/goon/\")"
   ]
  },
  {
   "cell_type": "code",
   "execution_count": 18,
   "metadata": {},
   "outputs": [
    {
     "data": {
      "text/html": [
       "<div>\n",
       "<style scoped>\n",
       "    .dataframe tbody tr th:only-of-type {\n",
       "        vertical-align: middle;\n",
       "    }\n",
       "\n",
       "    .dataframe tbody tr th {\n",
       "        vertical-align: top;\n",
       "    }\n",
       "\n",
       "    .dataframe thead th {\n",
       "        text-align: right;\n",
       "    }\n",
       "</style>\n",
       "<table border=\"1\" class=\"dataframe\">\n",
       "  <thead>\n",
       "    <tr style=\"text-align: right;\">\n",
       "      <th></th>\n",
       "      <th>image</th>\n",
       "      <th>director</th>\n",
       "      <th>dateModified</th>\n",
       "      <th>productionCompany</th>\n",
       "      <th>releasedEvent</th>\n",
       "      <th>url</th>\n",
       "      <th>actors</th>\n",
       "      <th>dateCreated</th>\n",
       "      <th>name</th>\n",
       "      <th>reviewCount</th>\n",
       "      <th>ratingValue</th>\n",
       "      <th>ratingCount</th>\n",
       "    </tr>\n",
       "  </thead>\n",
       "  <tbody>\n",
       "    <tr>\n",
       "      <th>0</th>\n",
       "      <td>https://a.ltrbxd.com/resized/film-poster/6/1/9...</td>\n",
       "      <td>[{'@type': 'Person', 'name': 'Michael Dowse', ...</td>\n",
       "      <td>2023-07-09</td>\n",
       "      <td>[{'@type': 'Organization', 'name': 'Inferno Pi...</td>\n",
       "      <td>[{'@type': 'PublicationEvent', 'startDate': '2...</td>\n",
       "      <td>https://letterboxd.com/film/goon/</td>\n",
       "      <td>[{'@type': 'Person', 'name': 'Seann William Sc...</td>\n",
       "      <td>2011-10-03</td>\n",
       "      <td>Goon</td>\n",
       "      <td>5641</td>\n",
       "      <td>3.27</td>\n",
       "      <td>43345</td>\n",
       "    </tr>\n",
       "  </tbody>\n",
       "</table>\n",
       "</div>"
      ],
      "text/plain": [
       "                                               image  \\\n",
       "0  https://a.ltrbxd.com/resized/film-poster/6/1/9...   \n",
       "\n",
       "                                            director dateModified  \\\n",
       "0  [{'@type': 'Person', 'name': 'Michael Dowse', ...   2023-07-09   \n",
       "\n",
       "                                   productionCompany  \\\n",
       "0  [{'@type': 'Organization', 'name': 'Inferno Pi...   \n",
       "\n",
       "                                       releasedEvent  \\\n",
       "0  [{'@type': 'PublicationEvent', 'startDate': '2...   \n",
       "\n",
       "                                 url  \\\n",
       "0  https://letterboxd.com/film/goon/   \n",
       "\n",
       "                                              actors dateCreated  name  \\\n",
       "0  [{'@type': 'Person', 'name': 'Seann William Sc...  2011-10-03  Goon   \n",
       "\n",
       "   reviewCount  ratingValue  ratingCount  \n",
       "0         5641         3.27        43345  "
      ]
     },
     "execution_count": 18,
     "metadata": {},
     "output_type": "execute_result"
    }
   ],
   "source": [
    "x"
   ]
  },
  {
   "cell_type": "code",
   "execution_count": 27,
   "metadata": {},
   "outputs": [],
   "source": [
    "def gen_film_url(a_str):\n",
    "    return f\"https://letterboxd.com/film/{'/'.join(a_str.split('/')[2:])}\""
   ]
  },
  {
   "cell_type": "code",
   "execution_count": 28,
   "metadata": {},
   "outputs": [],
   "source": [
    "link = \"trschwab/film/les-miserables-2012/\""
   ]
  },
  {
   "cell_type": "code",
   "execution_count": 29,
   "metadata": {},
   "outputs": [
    {
     "data": {
      "text/plain": [
       "'https://letterboxd.com/film/les-miserables-2012//'"
      ]
     },
     "execution_count": 29,
     "metadata": {},
     "output_type": "execute_result"
    }
   ],
   "source": [
    "gen_film_url(link)"
   ]
  },
  {
   "cell_type": "code",
   "execution_count": 26,
   "metadata": {},
   "outputs": [
    {
     "data": {
      "text/plain": [
       "'les-miserables-2012/'"
      ]
     },
     "execution_count": 26,
     "metadata": {},
     "output_type": "execute_result"
    }
   ],
   "source": [
    "'/'.join(link.split('/')[2:])"
   ]
  },
  {
   "cell_type": "code",
   "execution_count": null,
   "metadata": {},
   "outputs": [],
   "source": []
  }
 ],
 "metadata": {
  "kernelspec": {
   "display_name": "Python 3",
   "language": "python",
   "name": "python3"
  },
  "language_info": {
   "codemirror_mode": {
    "name": "ipython",
    "version": 3
   },
   "file_extension": ".py",
   "mimetype": "text/x-python",
   "name": "python",
   "nbconvert_exporter": "python",
   "pygments_lexer": "ipython3",
   "version": "3.9.6"
  }
 },
 "nbformat": 4,
 "nbformat_minor": 2
}
